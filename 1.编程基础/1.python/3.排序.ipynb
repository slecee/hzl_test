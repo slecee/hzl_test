{
 "cells": [
  {
   "cell_type": "code",
   "execution_count": 1,
   "metadata": {},
   "outputs": [
    {
     "data": {
      "text/plain": [
       "[1, 2, 3, 6, 7]"
      ]
     },
     "execution_count": 1,
     "metadata": {},
     "output_type": "execute_result"
    }
   ],
   "source": [
    "lists = [2,1,3,7,6]\n",
    "lists.sort() # 显示要lists\n",
    "lists"
   ]
  },
  {
   "cell_type": "code",
   "execution_count": null,
   "metadata": {},
   "outputs": [],
   "source": [
    "lists.sort(reverse = True)\n",
    "lists1 = [(\"b\",1),(\"a\",2),('e',7),(\"c\",3),('l',5)]\n",
    "lists1.sort()\n",
    "lists1.sort(reverse = True)\n",
    "lists1.sort(key = lambda x:x[1])\n",
    "lists1.sort(key = lambda x:(x[1],x[0]))"
   ]
  },
  {
   "attachments": {},
   "cell_type": "markdown",
   "metadata": {},
   "source": [
    "### 排序算法\n",
    "#### 冒泡排序"
   ]
  },
  {
   "cell_type": "code",
   "execution_count": 4,
   "metadata": {},
   "outputs": [
    {
     "data": {
      "text/plain": [
       "[3, 6, 6, 3, 32, 12, 34, 56, 75, 22, 99]"
      ]
     },
     "execution_count": 4,
     "metadata": {},
     "output_type": "execute_result"
    }
   ],
   "source": [
    "a_list = [3,6,32,6,3,75,12,34,56,99,22]\n",
    "\n",
    "# 考虑先把最大值放在最后，然后再把次最大值放在倒数第二位。。。\n",
    "for i in range(len(a_list)-1):\n",
    "    if a_list[i] > a_list[i+1]:\n",
    "        a_list[i],a_list[i+1] = a_list[i+1],a_list[i]\n",
    "a_list\n",
    "\n",
    "# i = 0 a[0] a[1]比一下 3 6 \n",
    "# i = 1 a[1] a[2]      6 32\n",
    "# i = 2 a[2] a[3]      32 6 6 32\n",
    "# i = 3 a[3] a[4]      32 3 3 32\n",
    "# i = 4 a[4] a[5]      32 75 32 75\n",
    "\n",
    "# i = 8 a[8] a[9] 这也是为什么需要减一的原因"
   ]
  },
  {
   "cell_type": "code",
   "execution_count": 6,
   "metadata": {},
   "outputs": [
    {
     "data": {
      "text/plain": [
       "[3, 3, 6, 6, 12, 22, 32, 34, 56, 75, 99]"
      ]
     },
     "execution_count": 6,
     "metadata": {},
     "output_type": "execute_result"
    }
   ],
   "source": [
    "# 已经把最大值放在最后了，在此基础上，重复len(a_list)-1次不就行了？\n",
    "for j in range(len(a_list)-1):\n",
    "    for i in range(len(a_list) - 1):\n",
    "        if a_list[i] > a_list[i+1]:\n",
    "            a_list[i],a_list[i+1] = a_list[i+1],a_list[i]\n",
    "\n",
    "a_list"
   ]
  },
  {
   "cell_type": "code",
   "execution_count": 7,
   "metadata": {},
   "outputs": [
    {
     "data": {
      "text/plain": [
       "[3, 3, 6, 6, 12, 22, 32, 34, 56, 75, 99]"
      ]
     },
     "execution_count": 7,
     "metadata": {},
     "output_type": "execute_result"
    }
   ],
   "source": [
    "# 有点浪费，第一次已经把最大值放在最后，\n",
    "# 第二次已经把次大值放在倒数第二位\n",
    "# 第二层的循环可以减少\n",
    "for j in range(len(a_list)-1):\n",
    "    for i in range(len(a_list) - 1 -j):\n",
    "        if a_list[i] > a_list[i+1]:\n",
    "            a_list[i],a_list[i+1] = a_list[i+1],a_list[i]\n",
    "\n",
    "a_list"
   ]
  },
  {
   "attachments": {},
   "cell_type": "markdown",
   "metadata": {},
   "source": [
    "选择排序"
   ]
  },
  {
   "cell_type": "code",
   "execution_count": 9,
   "metadata": {},
   "outputs": [
    {
     "data": {
      "text/plain": [
       "[3, 6, 32, 6, 3, 75, 12, 34, 56, 22, 99]"
      ]
     },
     "execution_count": 9,
     "metadata": {},
     "output_type": "execute_result"
    }
   ],
   "source": [
    "# 将序列的元素两两比较，找出最大值，然后放在最后\n",
    "a_list = [3,6,32,6,3,75,12,34,56,99,22]\n",
    "max_index = 0 # 保存最大元素的下标\n",
    "for i in range(len(a_list) - 1):\n",
    "    if a_list[max_index] < a_list[i+1]:\n",
    "        max_index = i+1\n",
    "a_list[max_index],a_list[len(a_list)-1] = a_list[len(a_list)-1],a_list[max_index]\n",
    "a_list"
   ]
  },
  {
   "cell_type": "code",
   "execution_count": 12,
   "metadata": {},
   "outputs": [
    {
     "data": {
      "text/plain": [
       "[3, 3, 6, 6, 12, 22, 32, 34, 56, 75, 99]"
      ]
     },
     "execution_count": 12,
     "metadata": {},
     "output_type": "execute_result"
    }
   ],
   "source": [
    "# 重复\n",
    "for j in range(len(a_list)-1):\n",
    "    max_index = 0 # 初始最大值下标为第一位元素\n",
    "    for i in range(len(a_list)-1-j):\n",
    "        if a_list[max_index] < a_list[i+1]:\n",
    "            max_index = i+1\n",
    "    a_list[max_index],a_list[len(a_list)-1-j] = a_list[len(a_list)-1-j],a_list[max_index]\n",
    "\n",
    "a_list"
   ]
  },
  {
   "attachments": {},
   "cell_type": "markdown",
   "metadata": {},
   "source": [
    "### 插入排序\n"
   ]
  },
  {
   "cell_type": "code",
   "execution_count": 17,
   "metadata": {},
   "outputs": [
    {
     "data": {
      "text/plain": [
       "[3, 11, 2, 22, 3, 5, 12, 6, 7]"
      ]
     },
     "execution_count": 17,
     "metadata": {},
     "output_type": "execute_result"
    }
   ],
   "source": [
    "# 假设列表分为两部分\n",
    "## 有序部分 默认为第一个元素\n",
    "## 无序部分 默认为非第一个元素\n",
    "\n",
    "a_list = [11,3,2,22,3,5,12,6,7]\n",
    "\n",
    "index = 1\n",
    "if a_list[index - 1] > a_list[index]:\n",
    "    a_list[index - 1],a_list[index] = a_list[index],a_list[index - 1]\n",
    "a_list"
   ]
  },
  {
   "cell_type": "code",
   "execution_count": 18,
   "metadata": {},
   "outputs": [
    {
     "data": {
      "text/plain": [
       "[2, 3, 11, 22, 3, 5, 12, 6, 7]"
      ]
     },
     "execution_count": 18,
     "metadata": {},
     "output_type": "execute_result"
    }
   ],
   "source": [
    "index = 2\n",
    "while index > 0:\n",
    "    if a_list[index - 1] > a_list[index]:\n",
    "        a_list[index - 1],a_list[index] = a_list[index],a_list[index - 1]\n",
    "        index -= 1\n",
    "    else:\n",
    "        break\n",
    "\n",
    "a_list"
   ]
  },
  {
   "cell_type": "code",
   "execution_count": 22,
   "metadata": {},
   "outputs": [
    {
     "data": {
      "text/plain": [
       "[2, 3, 3, 5, 6, 7, 11, 12, 22]"
      ]
     },
     "execution_count": 22,
     "metadata": {},
     "output_type": "execute_result"
    }
   ],
   "source": [
    "for index in range(1,len(a_list)):\n",
    "    while index > 0:\n",
    "        if a_list[index - 1] > a_list[index]:\n",
    "            a_list[index - 1],a_list[index] = a_list[index],a_list[index - 1]\n",
    "            index -= 1\n",
    "        else:\n",
    "            break\n",
    "a_list"
   ]
  }
 ],
 "metadata": {
  "kernelspec": {
   "display_name": "base",
   "language": "python",
   "name": "python3"
  },
  "language_info": {
   "codemirror_mode": {
    "name": "ipython",
    "version": 3
   },
   "file_extension": ".py",
   "mimetype": "text/x-python",
   "name": "python",
   "nbconvert_exporter": "python",
   "pygments_lexer": "ipython3",
   "version": "3.9.13"
  },
  "orig_nbformat": 4
 },
 "nbformat": 4,
 "nbformat_minor": 2
}
